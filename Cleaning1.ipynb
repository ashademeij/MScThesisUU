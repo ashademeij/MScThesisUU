{
 "cells": [
  {
   "cell_type": "markdown",
   "id": "e5e3f920",
   "metadata": {},
   "source": [
    "# Data cleaning + EDA "
   ]
  },
  {
   "cell_type": "code",
   "execution_count": 1,
   "id": "ce10134d",
   "metadata": {},
   "outputs": [
    {
     "name": "stderr",
     "output_type": "stream",
     "text": [
      "/Users/ashademeij/opt/anaconda3/lib/python3.9/site-packages/pandas/core/computation/expressions.py:21: UserWarning: Pandas requires version '2.8.4' or newer of 'numexpr' (version '2.8.3' currently installed).\n",
      "  from pandas.core.computation.check import NUMEXPR_INSTALLED\n",
      "/Users/ashademeij/opt/anaconda3/lib/python3.9/site-packages/pandas/core/arrays/masked.py:60: UserWarning: Pandas requires version '1.3.6' or newer of 'bottleneck' (version '1.3.5' currently installed).\n",
      "  from pandas.core import (\n"
     ]
    }
   ],
   "source": [
    "import numpy as np\n",
    "import pandas as pd\n",
    "import matplotlib.pyplot as plt"
   ]
  },
  {
   "cell_type": "markdown",
   "id": "04c82411",
   "metadata": {},
   "source": [
    "### Storing all necessary df's "
   ]
  },
  {
   "cell_type": "markdown",
   "id": "f7760148",
   "metadata": {},
   "source": [
    "The data was retrieved from the MIMIC-IV dataset, available on PhysioNet: https://physionet.org/content/mimiciv/2.2/  "
   ]
  },
  {
   "cell_type": "code",
   "execution_count": 3,
   "id": "e9b8f94b",
   "metadata": {},
   "outputs": [],
   "source": [
    "admissions = pd.read_csv('/Users/ashademeij/Downloads/Thesis/mimic-iv-2.2/hosp/admissions.csv')\n",
    "patients = pd.read_csv('/Users/ashademeij/Downloads/Thesis/mimic-iv-2.2/hosp/patients.csv')\n",
    "icuStays = pd.read_csv('/Users/ashademeij/Downloads/Thesis/mimic-iv-2.2/icu/icustays.csv') # This is what we are interested in --> the stays in ICU\n",
    "diagnoses = pd.read_csv(\"/Users/ashademeij/Downloads/Thesis/mimic-iv-2.2/hosp/diagnoses_icd.csv.gz\")\n",
    "# procedures = pd.read_csv(\"/Users/ashademeij/Downloads/Thesis/mimic-iv-2.2/hosp/prescriptions.csv\", low_memory=True) --> will be read later due to the size\n"
   ]
  },
  {
   "cell_type": "code",
   "execution_count": 4,
   "id": "13a89787",
   "metadata": {},
   "outputs": [],
   "source": [
    "# only interested in stays of at least one day\n",
    "icuStays = icuStays[icuStays['los'] >= 1]\n",
    "\n",
    "# common hadm_id values between icustays_df and admissions_df\n",
    "common_hadm_ids = set(icuStays['hadm_id']) & set(admissions['hadm_id'])\n",
    "\n",
    "# only keep instances that have common hadm_id in all df's\n",
    "admissions = admissions[admissions['hadm_id'].isin(common_hadm_ids)]\n",
    "icuStays = icuStays[icuStays['hadm_id'].isin(common_hadm_ids)]\n",
    "\n",
    "\n",
    "diagnoses = diagnoses[(diagnoses['subject_id'].isin(icuStays['subject_id'])) & \n",
    "                                  (diagnoses['hadm_id'].isin(icuStays['hadm_id']))]\n",
    "\n",
    "subjects = set(admissions['subject_id'])\n",
    "stays = set(icuStays['stay_id'])"
   ]
  },
  {
   "cell_type": "code",
   "execution_count": 4,
   "id": "ce80a4ce",
   "metadata": {},
   "outputs": [
    {
     "name": "stdout",
     "output_type": "stream",
     "text": [
      "(57734, 8)\n"
     ]
    }
   ],
   "source": [
    "print(icuStays.shape)"
   ]
  },
  {
   "cell_type": "markdown",
   "id": "8989578a",
   "metadata": {},
   "source": [
    "### ICU stays"
   ]
  },
  {
   "cell_type": "code",
   "execution_count": 5,
   "id": "bd7855d0",
   "metadata": {},
   "outputs": [],
   "source": [
    "icuStays.drop(['last_careunit', 'first_careunit'], axis=1, inplace=True)"
   ]
  },
  {
   "cell_type": "markdown",
   "id": "b3733a23",
   "metadata": {},
   "source": [
    "#### 1. Admissions"
   ]
  },
  {
   "cell_type": "code",
   "execution_count": 6,
   "id": "28329365",
   "metadata": {},
   "outputs": [
    {
     "data": {
      "text/plain": [
       "Index(['subject_id', 'hadm_id', 'admittime', 'dischtime', 'deathtime',\n",
       "       'admission_type', 'admit_provider_id', 'admission_location',\n",
       "       'discharge_location', 'insurance', 'language', 'marital_status', 'race',\n",
       "       'edregtime', 'edouttime', 'hospital_expire_flag'],\n",
       "      dtype='object')"
      ]
     },
     "execution_count": 6,
     "metadata": {},
     "output_type": "execute_result"
    }
   ],
   "source": [
    "admissions.columns\n",
    "\n",
    "# this df has important columns that could influence the models: 'insurance', 'race', 'marital_status'"
   ]
  },
  {
   "cell_type": "code",
   "execution_count": 7,
   "id": "c8ca9531",
   "metadata": {},
   "outputs": [],
   "source": [
    "# creating groups of admission type\n",
    "admissions = admissions[admissions['admission_location'] != 'INFORMATION NOT AVAILABLE']\n",
    "\n",
    "def group_admission_location(icu_name):\n",
    "    if icu_name == 'EMERGENCY ROOM':\n",
    "        return 'Emergency'\n",
    "    elif icu_name in ['PHYSICIAN REFERRAL', 'CLINIC REFERRAL', 'AMBULATORY SURGERY TRANSFER']:\n",
    "        return 'Referral'\n",
    "    elif icu_name in ['TRANSFER FROM HOSPITAL', 'TRANSFER FROM SKILLED NURSING FACILITY', 'INTERNAL TRANSFER TO OR FROM PSYCH']:\n",
    "        return 'Transfer'\n",
    "    else:\n",
    "        return 'Other'\n",
    "\n",
    "admissions['admission_location'] = admissions['admission_location'].apply(group_admission_location)\n"
   ]
  },
  {
   "cell_type": "code",
   "execution_count": 8,
   "id": "6e20f1e4",
   "metadata": {},
   "outputs": [
    {
     "name": "stdout",
     "output_type": "stream",
     "text": [
      "33\n",
      "633\n",
      "4752\n",
      "['WHITE' 'BLACK/AFRICAN AMERICAN' 'OTHER' 'UNKNOWN' 'UNABLE TO OBTAIN'\n",
      " 'WHITE - RUSSIAN' 'BLACK/CAPE VERDEAN' 'PORTUGUESE'\n",
      " 'HISPANIC/LATINO - PUERTO RICAN' 'ASIAN - SOUTH EAST ASIAN'\n",
      " 'WHITE - BRAZILIAN' 'HISPANIC OR LATINO' 'WHITE - OTHER EUROPEAN'\n",
      " 'BLACK/AFRICAN' 'HISPANIC/LATINO - SALVADORAN' 'ASIAN'\n",
      " 'PATIENT DECLINED TO ANSWER' 'BLACK/CARIBBEAN ISLAND'\n",
      " 'HISPANIC/LATINO - DOMINICAN' 'ASIAN - KOREAN' 'ASIAN - CHINESE'\n",
      " 'ASIAN - ASIAN INDIAN' 'WHITE - EASTERN EUROPEAN'\n",
      " 'HISPANIC/LATINO - HONDURAN' 'HISPANIC/LATINO - COLUMBIAN'\n",
      " 'NATIVE HAWAIIAN OR OTHER PACIFIC ISLANDER'\n",
      " 'HISPANIC/LATINO - GUATEMALAN' 'AMERICAN INDIAN/ALASKA NATIVE'\n",
      " 'HISPANIC/LATINO - CENTRAL AMERICAN' 'HISPANIC/LATINO - MEXICAN'\n",
      " 'SOUTH AMERICAN' 'MULTIPLE RACE/ETHNICITY' 'HISPANIC/LATINO - CUBAN']\n"
     ]
    }
   ],
   "source": [
    "print(len(admissions['race'].unique()))\n",
    "\n",
    "print((admissions['race'] == 'UNABLE TO OBTAIN').sum()) # exclude these entries from our analysis\n",
    "print((admissions['race'] == 'UNKNOWN').sum()) # exclude these entries from our analysis\n",
    "# 'PATIENT DECLINED TO ANSWER' is this a case i should include/exclude\n",
    "\n",
    "print(admissions['race'].unique())\n",
    "\n",
    "# 33 different races --> will be clustered"
   ]
  },
  {
   "cell_type": "code",
   "execution_count": 9,
   "id": "d27ece84",
   "metadata": {},
   "outputs": [
    {
     "name": "stdout",
     "output_type": "stream",
     "text": [
      "raceGrouped\n",
      "White                     35915\n",
      "Black/African American     5534\n",
      "Other                      2537\n",
      "Hispanic/Latino            1961\n",
      "Asian                      1554\n",
      "Name: count, dtype: int64\n"
     ]
    }
   ],
   "source": [
    "# Drop admissions with 'UNABLE TO OBTAIN' or 'UNKNOWN' race\n",
    "admissions = admissions[~admissions['race'].isin(['UNABLE TO OBTAIN', 'UNKNOWN'])]\n",
    "\n",
    "# method to group races\n",
    "def group_race(race):\n",
    "    if 'WHITE' in race:\n",
    "        return 'White'\n",
    "    elif 'BLACK' in race:\n",
    "        return 'Black/African American'\n",
    "    elif 'HISPANIC' in race or 'LATINO' in race:\n",
    "        return 'Hispanic/Latino'\n",
    "    elif 'ASIAN' in race:\n",
    "        return 'Asian'\n",
    "    else:\n",
    "        return 'Other'\n",
    "\n",
    "admissions['raceGrouped'] = admissions['race'].apply(group_race)\n",
    "print(admissions['raceGrouped'].value_counts())"
   ]
  },
  {
   "cell_type": "code",
   "execution_count": 10,
   "id": "da027654",
   "metadata": {},
   "outputs": [
    {
     "data": {
      "image/png": "[encoded data removed]",
      "text/plain": [
       "<Figure size 1000x600 with 1 Axes>"
      ]
     },
     "metadata": {},
     "output_type": "display_data"
    }
   ],
   "source": [
    "race_counts = admissions['raceGrouped'].value_counts()\n",
    "\n",
    "plt.figure(figsize=(10, 6))\n",
    "race_counts.plot(kind='bar')\n",
    "plt.title('Counts of Each Race Category in Admissions')\n",
    "plt.xlabel('Race Category')\n",
    "plt.ylabel('Count')\n",
    "plt.xticks(rotation=360)  \n",
    "plt.tight_layout()\n",
    "plt.show()"
   ]
  },
  {
   "cell_type": "code",
   "execution_count": 14,
   "id": "1049aaf6",
   "metadata": {},
   "outputs": [
    {
     "data": {
      "text/plain": [
       "3"
      ]
     },
     "execution_count": 14,
     "metadata": {},
     "output_type": "execute_result"
    }
   ],
   "source": [
    "len(admissions['insurance'].unique())"
   ]
  },
  {
   "cell_type": "code",
   "execution_count": 16,
   "id": "cd59e300",
   "metadata": {},
   "outputs": [
    {
     "data": {
      "image/png": "[encoded data removed]",
      "text/plain": [
       "<Figure size 800x600 with 1 Axes>"
      ]
     },
     "metadata": {},
     "output_type": "display_data"
    }
   ],
   "source": [
    "insurance_counts = admissions['insurance'].value_counts()\n",
    "\n",
    "plt.figure(figsize=(8, 6))\n",
    "insurance_counts.plot(kind='bar')\n",
    "plt.title('Counts of Unique Insurances in Admissions')\n",
    "plt.xlabel('Insurance Types')\n",
    "plt.ylabel('Count')\n",
    "plt.xticks(rotation=360)  \n",
    "plt.tight_layout()\n",
    "plt.show()"
   ]
  },
  {
   "cell_type": "code",
   "execution_count": 12,
   "id": "9cf94f28",
   "metadata": {},
   "outputs": [
    {
     "data": {
      "text/plain": [
       "(57734, 6)"
      ]
     },
     "execution_count": 12,
     "metadata": {},
     "output_type": "execute_result"
    }
   ],
   "source": [
    "icuStays.shape"
   ]
  },
  {
   "cell_type": "code",
   "execution_count": 17,
   "id": "dbd88e2b",
   "metadata": {},
   "outputs": [],
   "source": [
    "# add 'admission_location' 'insurance' 'raceGroup_2' 'marital_status' to icuStays based on subjectID\n",
    "icuStays = pd.merge(icuStays, admissions[['subject_id', 'hadm_id', 'admission_location', 'insurance', 'raceGrouped', 'marital_status']],\n",
    "                    on=['subject_id', 'hadm_id'], how='inner')"
   ]
  },
  {
   "cell_type": "markdown",
   "id": "38bf28c1",
   "metadata": {},
   "source": [
    "#### 2. Patients"
   ]
  },
  {
   "cell_type": "code",
   "execution_count": 18,
   "id": "0f236568",
   "metadata": {},
   "outputs": [],
   "source": [
    "patients = patients[patients['subject_id'].isin(subjects)]\n",
    "# this df has important columns that could influence the models: 'gender' & 'anchor_age'"
   ]
  },
  {
   "cell_type": "code",
   "execution_count": 19,
   "id": "098372ad",
   "metadata": {},
   "outputs": [
    {
     "data": {
      "image/png": "[encoded data removed]",
      "text/plain": [
       "<Figure size 800x600 with 1 Axes>"
      ]
     },
     "metadata": {},
     "output_type": "display_data"
    }
   ],
   "source": [
    "gender = patients['gender'].value_counts()\n",
    "\n",
    "plt.figure(figsize=(8, 6))\n",
    "plt.pie(gender, labels=gender.index, autopct='%1.1f%%', startangle=140)\n",
    "plt.title('Distribution of Gender in Patients')\n",
    "plt.axis('equal')  \n",
    "plt.show()"
   ]
  },
  {
   "cell_type": "code",
   "execution_count": 20,
   "id": "817c102e",
   "metadata": {},
   "outputs": [],
   "source": [
    "# Make gender binary for modelling: Male=1, Female = 0\n",
    "patients['gender'] = np.array(patients['gender'] == 'M').astype(int)"
   ]
  },
  {
   "cell_type": "markdown",
   "id": "e45b79d8",
   "metadata": {},
   "source": [
    "From the pie chart one can see that there is no drastic imbalance"
   ]
  },
  {
   "cell_type": "code",
   "execution_count": 21,
   "id": "88a9c995",
   "metadata": {},
   "outputs": [
    {
     "name": "stdout",
     "output_type": "stream",
     "text": [
      "min age:  18\n",
      "max age:  91\n",
      "mean age:  63.97113382547795\n"
     ]
    }
   ],
   "source": [
    "print(\"min age: \", patients['anchor_age'].min())\n",
    "print(\"max age: \", patients['anchor_age'].max())\n",
    "print(\"mean age: \", patients['anchor_age'].mean())"
   ]
  },
  {
   "cell_type": "code",
   "execution_count": 22,
   "id": "18c7223a",
   "metadata": {},
   "outputs": [],
   "source": [
    "age_bins = [18, 25, 45, 65, 89, float('inf')]\n",
    "age_labels = ['18-24', '25-44', '45-64', '65-88', '89+']\n",
    "patients['age_group'] = pd.cut(patients['anchor_age'], bins=age_bins, labels=age_labels, right=False)\n",
    "\n",
    "age_group_dummies = pd.get_dummies(patients['age_group'], prefix='age')\n",
    "patients = pd.concat([patients, age_group_dummies], axis=1)\n",
    "\n",
    "patients.drop(['anchor_age', 'age_group', 'anchor_year', 'anchor_year_group', 'dod'], axis=1, inplace=True)"
   ]
  },
  {
   "cell_type": "code",
   "execution_count": 23,
   "id": "fcde0407",
   "metadata": {},
   "outputs": [],
   "source": [
    "# add gender and age groups to icustays too based on subjectID\n",
    "\n",
    "icuStays = pd.merge(icuStays, patients[['subject_id', 'gender','age_18-24','age_25-44','age_45-64','age_65-88','age_89+']],\n",
    "                    on='subject_id', how='inner')"
   ]
  },
  {
   "cell_type": "code",
   "execution_count": 55,
   "id": "30f84cd9",
   "metadata": {},
   "outputs": [
    {
     "data": {
      "text/plain": [
       "(51703, 17)"
      ]
     },
     "execution_count": 55,
     "metadata": {},
     "output_type": "execute_result"
    }
   ],
   "source": [
    "icuStays.shape"
   ]
  },
  {
   "cell_type": "markdown",
   "id": "386b7205",
   "metadata": {},
   "source": [
    "#### 3. ICUstays"
   ]
  },
  {
   "cell_type": "code",
   "execution_count": 24,
   "id": "10d88c89",
   "metadata": {},
   "outputs": [],
   "source": [
    "icuStays = icuStays.sort_values(by=['subject_id', 'intime'])\n",
    "\n",
    "# feature engineering\n",
    "\n",
    "# calculating the number of previous stays and the average LOS of those stays\n",
    "icuStays['previous_stays'] = icuStays.groupby('subject_id').cumcount()\n",
    "icuStays['prev_los_avg'] = icuStays.groupby('subject_id')['los'].shift().expanding().mean()\n",
    "\n",
    "# Fill missing values in 'prev_los_avg' column with 0 (the first stay of each subject_id/patient)\n",
    "icuStays['prev_los_avg'].fillna(0, inplace=True)"
   ]
  },
  {
   "cell_type": "markdown",
   "id": "8a2b9e0a",
   "metadata": {},
   "source": [
    "#### 4. Diagnoses"
   ]
  },
  {
   "cell_type": "code",
   "execution_count": 24,
   "id": "f260e04e",
   "metadata": {},
   "outputs": [
    {
     "name": "stdout",
     "output_type": "stream",
     "text": [
      "(948064, 5)\n"
     ]
    }
   ],
   "source": [
    "diagnoses = diagnoses[diagnoses['hadm_id'].isin(common_hadm_ids)]\n",
    "diagnoses_original = diagnoses.copy() # we'll use this later\n",
    "\n",
    "print(diagnoses.shape)"
   ]
  },
  {
   "cell_type": "code",
   "execution_count": 33,
   "id": "ac44f287",
   "metadata": {},
   "outputs": [
    {
     "name": "stdout",
     "output_type": "stream",
     "text": [
      "[ 9 10]\n",
      "0.5472025095352212\n",
      "0.45279749046477874\n"
     ]
    }
   ],
   "source": [
    "print(diagnoses['icd_version'].unique())\n",
    "\n",
    "print((diagnoses['icd_version'] == 9).sum()/len(diagnoses))\n",
    "print((diagnoses['icd_version'] == 10).sum()/len(diagnoses))\n",
    "\n",
    "\n",
    "# we have 2 different icd_versions so we will transform version icd_9 to icd_10"
   ]
  },
  {
   "cell_type": "markdown",
   "id": "995bba05",
   "metadata": {},
   "source": [
    "There are 2 different version of ICD codes in the datset, namely 9 (58% of data) and 10 (42% of data). The following website, https://www.cdc.gov/nchs/icd/icd10cm_pcs_background.htm#:~:text=Code%20set%20differences,categories%20instead%20of%20numeric%20ones, states that ICD-9 codes are very different than ICD-10 code set. Therfore, the icd 9 code will be transformed into icd10.  It also says the followig: there are nearly 5 times as many diagnosis codes in ICD-10-CM than in ICD-9-CM. ICD-10 has alphanumeric categories instead of numeric ones.\n",
    "\n",
    "The model needs to ensure consistency in how it interprets and processes the diagnosis codes.the model must handle them appropriately to avoid misinterpretation or errors in predictions."
   ]
  },
  {
   "cell_type": "code",
   "execution_count": 34,
   "id": "ddb24cd0",
   "metadata": {},
   "outputs": [
    {
     "data": {
      "text/html": [
       "<div>\n",
       "<style scoped>\n",
       "    .dataframe tbody tr th:only-of-type {\n",
       "        vertical-align: middle;\n",
       "    }\n",
       "\n",
       "    .dataframe tbody tr th {\n",
       "        vertical-align: top;\n",
       "    }\n",
       "\n",
       "    .dataframe thead th {\n",
       "        text-align: right;\n",
       "    }\n",
       "</style>\n",
       "<table border=\"1\" class=\"dataframe\">\n",
       "  <thead>\n",
       "    <tr style=\"text-align: right;\">\n",
       "      <th></th>\n",
       "      <th>icd9cm</th>\n",
       "      <th>icd10cm</th>\n",
       "      <th>flags</th>\n",
       "      <th>approximate</th>\n",
       "      <th>no_map</th>\n",
       "      <th>combination</th>\n",
       "      <th>scenario</th>\n",
       "      <th>choice_list</th>\n",
       "    </tr>\n",
       "  </thead>\n",
       "  <tbody>\n",
       "    <tr>\n",
       "      <th>0</th>\n",
       "      <td>0010</td>\n",
       "      <td>A000</td>\n",
       "      <td>0</td>\n",
       "      <td>0</td>\n",
       "      <td>0</td>\n",
       "      <td>0</td>\n",
       "      <td>0</td>\n",
       "      <td>0</td>\n",
       "    </tr>\n",
       "    <tr>\n",
       "      <th>1</th>\n",
       "      <td>0011</td>\n",
       "      <td>A001</td>\n",
       "      <td>0</td>\n",
       "      <td>0</td>\n",
       "      <td>0</td>\n",
       "      <td>0</td>\n",
       "      <td>0</td>\n",
       "      <td>0</td>\n",
       "    </tr>\n",
       "    <tr>\n",
       "      <th>2</th>\n",
       "      <td>0019</td>\n",
       "      <td>A009</td>\n",
       "      <td>0</td>\n",
       "      <td>0</td>\n",
       "      <td>0</td>\n",
       "      <td>0</td>\n",
       "      <td>0</td>\n",
       "      <td>0</td>\n",
       "    </tr>\n",
       "    <tr>\n",
       "      <th>3</th>\n",
       "      <td>0020</td>\n",
       "      <td>A0100</td>\n",
       "      <td>10000</td>\n",
       "      <td>1</td>\n",
       "      <td>0</td>\n",
       "      <td>0</td>\n",
       "      <td>0</td>\n",
       "      <td>0</td>\n",
       "    </tr>\n",
       "    <tr>\n",
       "      <th>4</th>\n",
       "      <td>0021</td>\n",
       "      <td>A011</td>\n",
       "      <td>0</td>\n",
       "      <td>0</td>\n",
       "      <td>0</td>\n",
       "      <td>0</td>\n",
       "      <td>0</td>\n",
       "      <td>0</td>\n",
       "    </tr>\n",
       "  </tbody>\n",
       "</table>\n",
       "</div>"
      ],
      "text/plain": [
       "  icd9cm icd10cm  flags  approximate  no_map  combination  scenario  \\\n",
       "0   0010    A000      0            0       0            0         0   \n",
       "1   0011    A001      0            0       0            0         0   \n",
       "2   0019    A009      0            0       0            0         0   \n",
       "3   0020   A0100  10000            1       0            0         0   \n",
       "4   0021    A011      0            0       0            0         0   \n",
       "\n",
       "   choice_list  \n",
       "0            0  \n",
       "1            0  \n",
       "2            0  \n",
       "3            0  \n",
       "4            0  "
      ]
     },
     "execution_count": 34,
     "metadata": {},
     "output_type": "execute_result"
    }
   ],
   "source": [
    "# mapping retrieved from: https://www.nber.org/research/data/icd-9-cm-and-icd-10-cm-and-icd-10-pcs-crosswalk-or-general-equivalence-mappings \n",
    "mapping = pd.read_csv(\"/Users/ashademeij/Downloads/Thesis/mimic-iv-2.2/icd9toicd10Mapping.csv\")\n",
    "mapping.head()"
   ]
  },
  {
   "cell_type": "code",
   "execution_count": null,
   "id": "9cd3fec3",
   "metadata": {},
   "outputs": [],
   "source": [
    "# mapping ICD-9 codes to ICD-10 codes\n",
    "icd9_to_icd10 = dict(zip(mapping['icd9cm'], mapping['icd10cm']))\n",
    "diagnoses['icd10'] = diagnoses['icd_code'].map(icd9_to_icd10).fillna(diagnoses['icd_code'])"
   ]
  },
  {
   "cell_type": "code",
   "execution_count": 36,
   "id": "0aa07fc7",
   "metadata": {},
   "outputs": [],
   "source": [
    "def map_icd_to_category(icd10_code):\n",
    "    # These are the category names \n",
    "    icd_category_map = {\n",
    "        'A00–B99': 'Infections',\n",
    "        'C00–D48': 'Neoplasms',\n",
    "        'D50–D89': 'Blood',\n",
    "        'E00–E90': 'Endocrine',\n",
    "        'F00–F99': 'Mental',\n",
    "        'G00–G99': 'Nervous',\n",
    "        'H00–H59': 'Eye',\n",
    "        'H60–H95': 'Ear',\n",
    "        'I00–I99': 'Circulatory',\n",
    "        'J00–J99': 'Respiratory',\n",
    "        'K00–K93': 'Digestive',\n",
    "        'L00–L99': 'Skin',\n",
    "        'M00–M99': 'Musculoskeletal',\n",
    "        'N00–N99': 'Genitourinary',\n",
    "        'O00–O99': 'Pregnancy',\n",
    "        'P00–P96': 'Perinatal',\n",
    "        'Q00–Q99': 'Congenital',\n",
    "        'R00–R99': 'Symptoms',\n",
    "        'S00–T98': 'Injury',\n",
    "        'V01–Y98': 'External',\n",
    "        'Z00–Z99': 'Health',\n",
    "        'U00–U99': 'Special'\n",
    "    }\n",
    "\n",
    "    for key in icd_category_map:\n",
    "        if key.split(\"–\")[0] <= icd10_code <= key.split(\"–\")[1]:\n",
    "            return icd_category_map[key]\n",
    "    return None\n",
    "\n",
    "# Mapping the ICD-10 codes to categories \n",
    "diagnoses['category'] = diagnoses['icd10'].apply(map_icd_to_category)"
   ]
  },
  {
   "cell_type": "code",
   "execution_count": null,
   "id": "471e06bf",
   "metadata": {},
   "outputs": [],
   "source": [
    "# Dropping columns seq_num, icd_code, and icd_version for further cleaning\n",
    "diagnoses.drop(['seq_num', 'icd_code', 'icd_version'], axis=1, inplace=True)\n",
    "\n",
    "# Creating dummy variables for chapter and then \n",
    "dummy_vars = pd.get_dummies(diagnoses['category'])\n",
    "diagnoses = pd.concat([diagnoses, dummy_vars], axis=1)"
   ]
  },
  {
   "cell_type": "code",
   "execution_count": 46,
   "id": "77c25bfe",
   "metadata": {},
   "outputs": [
    {
     "data": {
      "text/plain": [
       "Index(['hadm_id', 'subject_id', 'Blood', 'Circulatory', 'Congenital',\n",
       "       'Digestive', 'Ear', 'Endocrine', 'External', 'Eye', 'Genitourinary',\n",
       "       'Health', 'Infections', 'Injury', 'Mental', 'Musculoskeletal',\n",
       "       'Neoplasms', 'Nervous', 'Perinatal', 'Pregnancy', 'Respiratory', 'Skin',\n",
       "       'Symptoms'],\n",
       "      dtype='object')"
      ]
     },
     "execution_count": 46,
     "metadata": {},
     "output_type": "execute_result"
    }
   ],
   "source": [
    "diagnoses.columns"
   ]
  },
  {
   "cell_type": "code",
   "execution_count": 47,
   "id": "9b829063",
   "metadata": {},
   "outputs": [
    {
     "data": {
      "text/html": [
       "<div>\n",
       "<style scoped>\n",
       "    .dataframe tbody tr th:only-of-type {\n",
       "        vertical-align: middle;\n",
       "    }\n",
       "\n",
       "    .dataframe tbody tr th {\n",
       "        vertical-align: top;\n",
       "    }\n",
       "\n",
       "    .dataframe thead th {\n",
       "        text-align: right;\n",
       "    }\n",
       "</style>\n",
       "<table border=\"1\" class=\"dataframe\">\n",
       "  <thead>\n",
       "    <tr style=\"text-align: right;\">\n",
       "      <th></th>\n",
       "      <th>subject_id</th>\n",
       "      <th>hadm_id</th>\n",
       "      <th>diagnoses_num</th>\n",
       "    </tr>\n",
       "  </thead>\n",
       "  <tbody>\n",
       "    <tr>\n",
       "      <th>0</th>\n",
       "      <td>10001217</td>\n",
       "      <td>24597018</td>\n",
       "      <td>10</td>\n",
       "    </tr>\n",
       "    <tr>\n",
       "      <th>1</th>\n",
       "      <td>10001725</td>\n",
       "      <td>25563031</td>\n",
       "      <td>18</td>\n",
       "    </tr>\n",
       "    <tr>\n",
       "      <th>2</th>\n",
       "      <td>10001884</td>\n",
       "      <td>26184834</td>\n",
       "      <td>36</td>\n",
       "    </tr>\n",
       "    <tr>\n",
       "      <th>3</th>\n",
       "      <td>10002013</td>\n",
       "      <td>23581541</td>\n",
       "      <td>22</td>\n",
       "    </tr>\n",
       "    <tr>\n",
       "      <th>4</th>\n",
       "      <td>10002155</td>\n",
       "      <td>23822395</td>\n",
       "      <td>20</td>\n",
       "    </tr>\n",
       "  </tbody>\n",
       "</table>\n",
       "</div>"
      ],
      "text/plain": [
       "   subject_id   hadm_id  diagnoses_num\n",
       "0    10001217  24597018             10\n",
       "1    10001725  25563031             18\n",
       "2    10001884  26184834             36\n",
       "3    10002013  23581541             22\n",
       "4    10002155  23822395             20"
      ]
     },
     "execution_count": 47,
     "metadata": {},
     "output_type": "execute_result"
    }
   ],
   "source": [
    "# Since a patient can have multiple diagnoses for the prediction we will keep track of how many diagnoses a patient has\n",
    "diagnoses_count = diagnoses_original.groupby(['subject_id', 'hadm_id']).size().reset_index(name='diagnoses_num')\n",
    "diagnoses_count.head()"
   ]
  },
  {
   "cell_type": "markdown",
   "id": "53d648f5",
   "metadata": {},
   "source": [
    "#### 5. Prescriptions"
   ]
  },
  {
   "cell_type": "code",
   "execution_count": 38,
   "id": "a37f733c",
   "metadata": {},
   "outputs": [],
   "source": [
    "file_path = '/Users/ashademeij/Downloads/Thesis/mimic-iv-2.2/hosp/prescriptions.csv'\n",
    "icuu = icuStays[['subject_id', 'hadm_id', 'intime', 'outtime']].copy()"
   ]
  },
  {
   "cell_type": "code",
   "execution_count": null,
   "id": "22ee6b48",
   "metadata": {},
   "outputs": [],
   "source": [
    "# Reading in the file in chunks due to the large size\n",
    "\n",
    "chunk_size = 5000 \n",
    "chunks = []\n",
    "\n",
    "icuu['intime'] = pd.to_datetime(icuu['intime'])\n",
    "icuu['outtime'] = pd.to_datetime(icuu['outtime'])\n",
    "\n",
    "for chunk in pd.read_csv(file_path, chunksize=chunk_size):\n",
    "    chunk['starttime'] = pd.to_datetime(chunk['starttime'])\n",
    "    chunk['stoptime'] = pd.to_datetime(chunk['stoptime'])\n",
    "    \n",
    "    merged_chunk = pd.merge(\n",
    "        chunk,\n",
    "        icuu[['subject_id', 'hadm_id','intime', 'outtime']],\n",
    "        how='inner',\n",
    "        left_on=['subject_id', 'hadm_id'],\n",
    "        right_on=['subject_id', 'hadm_id']\n",
    "    )\n",
    "    \n",
    "    # Filtering rows where 'starttime' is between 'intime' and 'outtime'\n",
    "    condition = (merged_chunk['starttime'] >= merged_chunk['intime']) & (merged_chunk['starttime'] <= merged_chunk['outtime'])\n",
    "    filtered_chunk = merged_chunk[condition]\n",
    "    \n",
    "    # only keeping the specified columns\n",
    "    filtered_chunk = filtered_chunk[['drug', 'subject_id', 'hadm_id', 'starttime', 'stoptime']]\n",
    "    \n",
    "    chunks.append(filtered_chunk)\n",
    "\n",
    "prescriptions_df = pd.concat(chunks, ignore_index=True)\n",
    "\n"
   ]
  },
  {
   "cell_type": "markdown",
   "id": "f2b36600",
   "metadata": {},
   "source": [
    "#### Cluster drugs"
   ]
  },
  {
   "cell_type": "code",
   "execution_count": null,
   "id": "39de74f9",
   "metadata": {},
   "outputs": [],
   "source": [
    "icuu['intime'] = pd.to_datetime(icuu['intime'])\n",
    "icuu['outtime'] = pd.to_datetime(icuu['outtime'])\n",
    "prescriptions_df['starttime'] = pd.to_datetime(prescriptions_df['starttime'])\n",
    "prescriptions_df['stoptime'] = pd.to_datetime(prescriptions_df['stoptime'])\n",
    "\n",
    "print(\"Before merging, prescriptions_df shape:\", prescriptions_df.shape)\n",
    "\n",
    "# Merging prescriptions with ICU stays\n",
    "merged_df = pd.merge(\n",
    "    prescriptions_df,\n",
    "    icuu[['subject_id', 'hadm_id', 'intime']],\n",
    "    on=['subject_id', 'hadm_id']\n",
    ")\n",
    "\n",
    "# Calculating the 24-hour window from the 'intime' bc we only want to keep the prescription of the first 24h\n",
    "merged_df['24hr_window'] = merged_df['intime'] + pd.Timedelta(hours=24)\n",
    "prescriptions_df = merged_df[merged_df['starttime'] <= merged_df['24hr_window']]\n",
    "\n",
    "print(\"After filtering, filtered_prescriptions_df shape:\", prescriptions_df.shape)\n",
    "\n",
    "prescriptions_df = prescriptions_df[['drug', 'subject_id', 'hadm_id']]"
   ]
  },
  {
   "cell_type": "code",
   "execution_count": 20,
   "id": "39ad084d",
   "metadata": {},
   "outputs": [],
   "source": [
    "prescriptions_df['druggs'] = 1\n",
    "prescriptions_df = prescriptions_df.pivot_table(index=['subject_id', 'hadm_id'], columns='drug', values='druggs', fill_value=0)\n",
    "\n",
    "prescriptions_df.reset_index(inplace=True)"
   ]
  },
  {
   "cell_type": "code",
   "execution_count": null,
   "id": "7c77f449",
   "metadata": {},
   "outputs": [],
   "source": [
    "drug_columns = prescriptions_df.columns[2:]\n",
    "\n",
    "# Calculating the prescrip_count \n",
    "prescriptions_df['prescrip_count'] = prescriptions_df[drug_columns].sum(axis=1)\n",
    "prescriptions_df.head(1)"
   ]
  },
  {
   "cell_type": "code",
   "execution_count": 93,
   "id": "49832b4d",
   "metadata": {},
   "outputs": [],
   "source": [
    "prescriptions_df.to_csv('prescriptions.csv', index=False)"
   ]
  },
  {
   "cell_type": "markdown",
   "id": "3d08e6fa",
   "metadata": {},
   "source": [
    "#### 6. Lab events"
   ]
  },
  {
   "cell_type": "markdown",
   "id": "e93fa649",
   "metadata": {},
   "source": [
    "chosen lab predictors based of lit: https://www.mdpi.com/2076-3417/13/12/6930 "
   ]
  },
  {
   "cell_type": "code",
   "execution_count": null,
   "id": "96af4180",
   "metadata": {},
   "outputs": [],
   "source": [
    "lab_codes = pd.read_csv(\"/Users/ashademeij/Downloads/Thesis/mimic-iv-2.2/hosp/d_labitems.csv.gz\")"
   ]
  },
  {
   "cell_type": "code",
   "execution_count": 48,
   "metadata": {},
   "outputs": [
    {
     "data": {
      "text/html": [
       "<div>\n",
       "<style scoped>\n",
       "    .dataframe tbody tr th:only-of-type {\n",
       "        vertical-align: middle;\n",
       "    }\n",
       "\n",
       "    .dataframe tbody tr th {\n",
       "        vertical-align: top;\n",
       "    }\n",
       "\n",
       "    .dataframe thead th {\n",
       "        text-align: right;\n",
       "    }\n",
       "</style>\n",
       "<table border=\"1\" class=\"dataframe\">\n",
       "  <thead>\n",
       "    <tr style=\"text-align: right;\">\n",
       "      <th></th>\n",
       "      <th>itemid</th>\n",
       "      <th>label</th>\n",
       "      <th>fluid</th>\n",
       "      <th>category</th>\n",
       "    </tr>\n",
       "  </thead>\n",
       "  <tbody>\n",
       "    <tr>\n",
       "      <th>15</th>\n",
       "      <td>50817</td>\n",
       "      <td>Oxygen Saturation</td>\n",
       "      <td>Blood</td>\n",
       "      <td>Blood Gas</td>\n",
       "    </tr>\n",
       "    <tr>\n",
       "      <th>23</th>\n",
       "      <td>50825</td>\n",
       "      <td>Temperature</td>\n",
       "      <td>Blood</td>\n",
       "      <td>Blood Gas</td>\n",
       "    </tr>\n",
       "    <tr>\n",
       "      <th>66</th>\n",
       "      <td>50868</td>\n",
       "      <td>Anion Gap</td>\n",
       "      <td>Blood</td>\n",
       "      <td>Chemistry</td>\n",
       "    </tr>\n",
       "    <tr>\n",
       "      <th>80</th>\n",
       "      <td>50882</td>\n",
       "      <td>Bicarbonate</td>\n",
       "      <td>Blood</td>\n",
       "      <td>Chemistry</td>\n",
       "    </tr>\n",
       "    <tr>\n",
       "      <th>100</th>\n",
       "      <td>50902</td>\n",
       "      <td>Chloride</td>\n",
       "      <td>Blood</td>\n",
       "      <td>Chemistry</td>\n",
       "    </tr>\n",
       "    <tr>\n",
       "      <th>110</th>\n",
       "      <td>50912</td>\n",
       "      <td>Creatinine</td>\n",
       "      <td>Blood</td>\n",
       "      <td>Chemistry</td>\n",
       "    </tr>\n",
       "    <tr>\n",
       "      <th>129</th>\n",
       "      <td>50931</td>\n",
       "      <td>Glucose</td>\n",
       "      <td>Blood</td>\n",
       "      <td>Chemistry</td>\n",
       "    </tr>\n",
       "    <tr>\n",
       "      <th>157</th>\n",
       "      <td>50960</td>\n",
       "      <td>Magnesium</td>\n",
       "      <td>Blood</td>\n",
       "      <td>Chemistry</td>\n",
       "    </tr>\n",
       "    <tr>\n",
       "      <th>167</th>\n",
       "      <td>50970</td>\n",
       "      <td>Phosphate</td>\n",
       "      <td>Blood</td>\n",
       "      <td>Chemistry</td>\n",
       "    </tr>\n",
       "    <tr>\n",
       "      <th>168</th>\n",
       "      <td>50971</td>\n",
       "      <td>Potassium</td>\n",
       "      <td>Blood</td>\n",
       "      <td>Chemistry</td>\n",
       "    </tr>\n",
       "    <tr>\n",
       "      <th>180</th>\n",
       "      <td>50983</td>\n",
       "      <td>Sodium</td>\n",
       "      <td>Blood</td>\n",
       "      <td>Chemistry</td>\n",
       "    </tr>\n",
       "    <tr>\n",
       "      <th>202</th>\n",
       "      <td>51006</td>\n",
       "      <td>Urea Nitrogen</td>\n",
       "      <td>Blood</td>\n",
       "      <td>Chemistry</td>\n",
       "    </tr>\n",
       "    <tr>\n",
       "      <th>406</th>\n",
       "      <td>51221</td>\n",
       "      <td>Hematocrit</td>\n",
       "      <td>Blood</td>\n",
       "      <td>Hematology</td>\n",
       "    </tr>\n",
       "    <tr>\n",
       "      <th>407</th>\n",
       "      <td>51222</td>\n",
       "      <td>Hemoglobin</td>\n",
       "      <td>Blood</td>\n",
       "      <td>Hematology</td>\n",
       "    </tr>\n",
       "    <tr>\n",
       "      <th>433</th>\n",
       "      <td>51248</td>\n",
       "      <td>MCH</td>\n",
       "      <td>Blood</td>\n",
       "      <td>Hematology</td>\n",
       "    </tr>\n",
       "    <tr>\n",
       "      <th>434</th>\n",
       "      <td>51249</td>\n",
       "      <td>MCHC</td>\n",
       "      <td>Blood</td>\n",
       "      <td>Hematology</td>\n",
       "    </tr>\n",
       "    <tr>\n",
       "      <th>435</th>\n",
       "      <td>51250</td>\n",
       "      <td>MCV</td>\n",
       "      <td>Blood</td>\n",
       "      <td>Hematology</td>\n",
       "    </tr>\n",
       "    <tr>\n",
       "      <th>450</th>\n",
       "      <td>51265</td>\n",
       "      <td>Platelet Count</td>\n",
       "      <td>Blood</td>\n",
       "      <td>Hematology</td>\n",
       "    </tr>\n",
       "    <tr>\n",
       "      <th>462</th>\n",
       "      <td>51277</td>\n",
       "      <td>RDW</td>\n",
       "      <td>Blood</td>\n",
       "      <td>Hematology</td>\n",
       "    </tr>\n",
       "    <tr>\n",
       "      <th>464</th>\n",
       "      <td>51279</td>\n",
       "      <td>Red Blood Cells</td>\n",
       "      <td>Blood</td>\n",
       "      <td>Hematology</td>\n",
       "    </tr>\n",
       "    <tr>\n",
       "      <th>485</th>\n",
       "      <td>51300</td>\n",
       "      <td>WBC Count</td>\n",
       "      <td>Blood</td>\n",
       "      <td>Hematology</td>\n",
       "    </tr>\n",
       "    <tr>\n",
       "      <th>486</th>\n",
       "      <td>51301</td>\n",
       "      <td>White Blood Cells</td>\n",
       "      <td>Blood</td>\n",
       "      <td>Hematology</td>\n",
       "    </tr>\n",
       "  </tbody>\n",
       "</table>\n",
       "</div>"
      ],
      "text/plain": [
       "     itemid              label  fluid    category\n",
       "15    50817  Oxygen Saturation  Blood   Blood Gas\n",
       "23    50825        Temperature  Blood   Blood Gas\n",
       "66    50868          Anion Gap  Blood   Chemistry\n",
       "80    50882        Bicarbonate  Blood   Chemistry\n",
       "100   50902           Chloride  Blood   Chemistry\n",
       "110   50912         Creatinine  Blood   Chemistry\n",
       "129   50931            Glucose  Blood   Chemistry\n",
       "157   50960          Magnesium  Blood   Chemistry\n",
       "167   50970          Phosphate  Blood   Chemistry\n",
       "168   50971          Potassium  Blood   Chemistry\n",
       "180   50983             Sodium  Blood   Chemistry\n",
       "202   51006      Urea Nitrogen  Blood   Chemistry\n",
       "406   51221         Hematocrit  Blood  Hematology\n",
       "407   51222         Hemoglobin  Blood  Hematology\n",
       "433   51248                MCH  Blood  Hematology\n",
       "434   51249               MCHC  Blood  Hematology\n",
       "435   51250                MCV  Blood  Hematology\n",
       "450   51265     Platelet Count  Blood  Hematology\n",
       "462   51277                RDW  Blood  Hematology\n",
       "464   51279    Red Blood Cells  Blood  Hematology\n",
       "485   51300          WBC Count  Blood  Hematology\n",
       "486   51301  White Blood Cells  Blood  Hematology"
      ]
     },
     "execution_count": 48,
     "metadata": {},
     "output_type": "execute_result"
    }
   ],
   "source": [
    "# item IDs of chosen features of lit\n",
    "item_ids = [220045, 50817, 220210, 50825, 220739, 223900, 223901,\n",
    "            50868, 50882, 50902, 50912, 50931, 50983, 50960, 50971,\n",
    "            50970, 51006, 51221, 51222, 51250, 51248, 51249, 51277,\n",
    "            51279, 51300, 51265, 51301]\n",
    "\n",
    "filtered = lab_codes[lab_codes['itemid'].isin(item_ids)]\n",
    "filtered.head(30)"
   ]
  },
  {
   "cell_type": "code",
   "execution_count": 49,
   "id": "ddde1565",
   "metadata": {},
   "outputs": [],
   "source": [
    "file_path = \"/Users/ashademeij/Downloads/Thesis/mimic-iv-2.2/hosp/labevents.csv.gz\""
   ]
  },
  {
   "cell_type": "code",
   "execution_count": null,
   "id": "4cdaa167",
   "metadata": {},
   "outputs": [],
   "source": [
    "# readin in data in chunks again due to size\n",
    "\n",
    "chunks = []\n",
    "chunk_size = 5000\n",
    "\n",
    "for chunk in pd.read_csv(file_path, chunksize=chunk_size):\n",
    "    current_chunk = chunk[chunk['itemid'].isin(item_ids)]\n",
    "    \n",
    "    # Merge chunk with icuu on subject_id\n",
    "    merged = pd.merge(current_chunk, icuu, on=\"subject_id\", how=\"inner\")\n",
    "    \n",
    "    merged['charttime'] = pd.to_datetime(merged['charttime'])\n",
    "    filtered_chunk = merged[(merged['charttime'] >= pd.to_datetime(merged['intime'])) & \n",
    "                                  (merged['charttime'] < pd.to_datetime(merged['outtime']))]\n",
    "    \n",
    "    # Keeping necessary columns only\n",
    "    current_chunk = current_chunk[['subject_id', 'intime','outtime','itemid', 'valuenum', 'charttime']]\n",
    "    chunks.append(current_chunk)\n",
    "\n",
    "labevents_df = pd.concat(chunks)\n",
    "labevents_df.reset_index(drop=True, inplace=True)\n",
    "\n"
   ]
  },
  {
   "cell_type": "code",
   "execution_count": null,
   "id": "fbffb4a6",
   "metadata": {},
   "outputs": [],
   "source": [
    "# now we will ectract the values of these stuff from the labevents data set --> 24h only\n",
    "print(labevents_df.shape)\n",
    "labevents_df['intime'] = pd.to_datetime(labevents_df['intime'])\n",
    "\n",
    "# Calculating the 24-hour window\n",
    "labevents_df['24hr_window'] = labevents_df['intime'] + pd.Timedelta(hours=24)\n",
    "filtered_labevents_df = labevents_df[labevents_df['charttime'] <= labevents_df['24hr_window']]\n",
    "\n",
    "filtered_labevents_df.drop(columns=['24hr_window'], inplace=True)\n",
    "labevents_df = filtered_labevents_df"
   ]
  },
  {
   "cell_type": "code",
   "execution_count": null,
   "id": "9459ea07",
   "metadata": {},
   "outputs": [],
   "source": [
    "# adding hadm_id to labevents_df\n",
    "labevents_df['intime'] = pd.to_datetime(labevents_df['intime'])\n",
    "icuStays['intime'] = pd.to_datetime(icuStays['intime'])\n",
    "\n",
    "merged_df = pd.merge(labevents_df, icuStays[['subject_id', 'hadm_id', 'intime']], on=['subject_id', 'intime'], how='inner')\n",
    "\n",
    "labevents_df = merged_df[(merged_df['subject_id'] == merged_df['subject_id']) & \n",
    "                                   (merged_df['itemid'] == merged_df['itemid'])]"
   ]
  },
  {
   "cell_type": "code",
   "execution_count": 52,
   "id": "2b918048",
   "metadata": {},
   "outputs": [],
   "source": [
    "# Replacing the values in the \"itemid\" column with their corresponding labels\n",
    "itemid_to_label = dict(zip(filtered['itemid'], filtered['label']))\n",
    "labevents_df['itemid'] = labevents_df['itemid'].map(itemid_to_label)\n",
    "\n",
    "# further clean again\n",
    "labevents_df = labevents_df[['subject_id', 'hadm_id', 'itemid', 'valuenum']]"
   ]
  },
  {
   "cell_type": "code",
   "execution_count": null,
   "id": "f380411e",
   "metadata": {},
   "outputs": [],
   "source": [
    "# pivoting the table to have the labs vals as cols\n",
    "labevents_df = labevents_df.pivot_table(\n",
    "    index=['subject_id', 'hadm_id'], \n",
    "    columns='itemid', \n",
    "    values='valuenum', \n",
    "    aggfunc='first'\n",
    ").reset_index()\n",
    "\n",
    "labevents_df.columns.name = None\n",
    "labevents_df.columns = [str(col) for col in labevents_df.columns]"
   ]
  },
  {
   "cell_type": "code",
   "execution_count": 55,
   "id": "95130b8a",
   "metadata": {},
   "outputs": [
    {
     "name": "stdout",
     "output_type": "stream",
     "text": [
      "(47297, 24)\n",
      "subject_id               0\n",
      "hadm_id                  0\n",
      "Anion Gap               66\n",
      "Bicarbonate             45\n",
      "Chloride                38\n",
      "Creatinine              48\n",
      "Glucose                109\n",
      "Hematocrit              69\n",
      "Hemoglobin              91\n",
      "MCH                     94\n",
      "MCHC                    94\n",
      "MCV                     91\n",
      "Magnesium              715\n",
      "Oxygen Saturation    30288\n",
      "Phosphate             1861\n",
      "Platelet Count          91\n",
      "Potassium               48\n",
      "RDW                    104\n",
      "Red Blood Cells         90\n",
      "Sodium                  39\n",
      "Temperature          32979\n",
      "Urea Nitrogen           51\n",
      "WBC Count            47060\n",
      "White Blood Cells       91\n",
      "dtype: int64\n"
     ]
    }
   ],
   "source": [
    "print(labevents_df.shape)\n",
    "print(labevents_df.isna().sum())\n",
    "\n",
    "# will delete Oxygen Saturation, Temperature, WBC Count since there is a lot missing\n"
   ]
  },
  {
   "cell_type": "code",
   "execution_count": 56,
   "metadata": {},
   "outputs": [],
   "source": [
    "labevents_df.drop(['Oxygen Saturation', 'Temperature', 'WBC Count', 'Phosphate'], axis=1, inplace=True)\n",
    "labevents_df.to_csv('labevents.csv', index=False)"
   ]
  },
  {
   "cell_type": "code",
   "execution_count": 59,
   "id": "b5600dc3",
   "metadata": {},
   "outputs": [],
   "source": [
    "icuStays.to_csv('icuStaysEdited.csv', index=False)"
   ]
  },
  {
   "cell_type": "markdown",
   "id": "60435203",
   "metadata": {},
   "source": [
    "# Filter the df's such that they can be used for modelling"
   ]
  },
  {
   "cell_type": "code",
   "execution_count": null,
   "id": "f6ecf6a2",
   "metadata": {},
   "outputs": [],
   "source": [
    "# Making one big df with all needed attributes\n",
    "def data_cleaning_prep(icuStays, admissions, patients, diagnoses_count, diagnoses):\n",
    "\n",
    "    # selected columns for final df \n",
    "    cols_to_add = ['subject_id', 'hadm_id', 'admission_location', 'discharge_location', 'admission_type',\n",
    "                    'insurance', 'language', 'marital_status', 'race', 'raceGroup_1', 'raceGroup_2']\n",
    "    admissions_selected = admissions[cols_to_add]\n",
    "\n",
    "    # Merging admissions to icuStays based on subject_id and hadm_id\n",
    "    merged_df = pd.merge(icuStays, admissions_selected, on=['subject_id', 'hadm_id'], how='left')\n",
    "\n",
    "    # Adding gender too\n",
    "    merged_df['gender'] = merged_df['subject_id'].map(patients.set_index('subject_id')['gender'])\n",
    "\n",
    "    # Merging diagnoses_count on subject_id and hadm_id to final df\n",
    "    merged_df = pd.merge(merged_df, diagnoses_count, on=['hadm_id'], how='left')\n",
    "\n",
    "    #diagnoses.drop('subject_id', axis=1, inplace=True)\n",
    "    merged_df = pd.merge(icuStays, diagnoses, on=['subject_id', 'hadm_id'], how='inner')\n",
    "\n",
    "    # Filtering out the entries with non-unique hadm_id values\n",
    "    non_unique_hadm_ids = merged_df['hadm_id'][merged_df['hadm_id'].duplicated()]\n",
    "    merged_df = merged_df[~merged_df['hadm_id'].isin(non_unique_hadm_ids)]\n",
    "\n",
    "    return merged_df\n",
    "\n",
    "\n",
    "final_df = data_cleaning_prep(icuStays, admissions, patients, diagnoses_count, diagnoses)\n",
    "print(final_df.shape)"
   ]
  },
  {
   "cell_type": "code",
   "execution_count": 59,
   "id": "9f97aef6",
   "metadata": {},
   "outputs": [
    {
     "data": {
      "text/plain": [
       "Index(['subject_id', 'hadm_id', 'stay_id', 'first_careunit', 'last_careunit',\n",
       "       'intime', 'outtime', 'los', 'Blood', 'Circulatory', 'Congenital',\n",
       "       'Digestive', 'Ear', 'Endocrine', 'External', 'Eye', 'Genitourinary',\n",
       "       'Health', 'Infections', 'Injury', 'Mental', 'Musculoskeletal',\n",
       "       'Neoplasms', 'Nervous', 'Perinatal', 'Pregnancy', 'Respiratory', 'Skin',\n",
       "       'Symptoms'],\n",
       "      dtype='object')"
      ]
     },
     "execution_count": 59,
     "metadata": {},
     "output_type": "execute_result"
    }
   ],
   "source": [
    "final_df.columns"
   ]
  },
  {
   "cell_type": "markdown",
   "id": "9b71620d",
   "metadata": {},
   "source": []
  }
 ],
 "metadata": {
  "kernelspec": {
   "display_name": "Python 3 (ipykernel)",
   "language": "python",
   "name": "python3"
  },
  "language_info": {
   "codemirror_mode": {
    "name": "ipython",
    "version": 3
   },
   "file_extension": ".py",
   "mimetype": "text/x-python",
   "name": "python",
   "nbconvert_exporter": "python",
   "pygments_lexer": "ipython3",
   "version": "3.9.13"
  }
 },
 "nbformat": 4,
 "nbformat_minor": 5
}
